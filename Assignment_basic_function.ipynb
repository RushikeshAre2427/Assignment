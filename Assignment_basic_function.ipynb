{
 "cells": [
  {
   "cell_type": "markdown",
   "id": "f311a4d8",
   "metadata": {},
   "source": [
    "Q1: Write a function sum_numbers(a, b) that takes two numbers as input and does the\n",
    "following:\n",
    "o Prints the sum of the numbers.\n",
    "o Returns the sum of the numbers.\n",
    "o Call the function and explain the difference between the print and return values."
   ]
  },
  {
   "cell_type": "code",
   "execution_count": 4,
   "id": "bbe96356",
   "metadata": {},
   "outputs": [
    {
     "name": "stdout",
     "output_type": "stream",
     "text": [
      "Enter a 1st Number :10\n",
      "Enter 2nd number :20\n",
      "The Sum of x = 10 and y = 20 is  30\n"
     ]
    }
   ],
   "source": [
    "#Prints the sum of the numbers\n",
    "\n",
    "# def sum_numbers(a,b):\n",
    "#     print(f'Sum of The number a = {a} and b = {b} is :', a+b)\n",
    "\n",
    "\n",
    "\n",
    "# a = int(input('Enter a 1st Number :'))\n",
    "# b = int(input('Enter a 2nd Number :'))\n",
    "\n",
    "# sum_numbers(a,b)\n",
    "\n",
    "# Return Sum the numbers\n",
    "\n",
    "def add(x,y):\n",
    "    return x+y\n",
    "\n",
    "x = int(input('Enter a 1st Number :'))\n",
    "y = int(input('Enter 2nd number :'))\n",
    "\n",
    "print(f'The Sum of x = {x} and y = {y} is ',add(x,y))\n",
    "\n",
    "# difference between Print and return \n",
    "\n",
    "# print = In print we can't find the type of varaible. Here get the type of varaible is None\n",
    "# return  = In return we find the type of vaiable.  Here get the type of varaible is Int,str,float,etc"
   ]
  },
  {
   "cell_type": "markdown",
   "id": "e7ae88d4",
   "metadata": {},
   "source": [
    "Q2: Write a program where:\n",
    "o You define a global variable counter with an initial value of 0.\n",
    "o Create a function increment() that increments counter by 1 each time it is called\n",
    "and prints its value.\n",
    "o Call the function three times and observe the output."
   ]
  },
  {
   "cell_type": "code",
   "execution_count": 11,
   "id": "1a69182a",
   "metadata": {},
   "outputs": [
    {
     "name": "stdout",
     "output_type": "stream",
     "text": [
      "1\n",
      "2\n",
      "3\n"
     ]
    }
   ],
   "source": []
  },
  {
   "cell_type": "markdown",
   "id": "375f3b84",
   "metadata": {},
   "source": [
    "Q3: Write a function demo_local() that declares a local variable message = \"Hello,\n",
    "Local\" and prints it."
   ]
  },
  {
   "cell_type": "code",
   "execution_count": 13,
   "id": "cc2554ec",
   "metadata": {},
   "outputs": [
    {
     "name": "stdout",
     "output_type": "stream",
     "text": [
      "Hello, Local\n"
     ]
    }
   ],
   "source": [
    "def demo_local():\n",
    "    message = \"Hello, Local\"\n",
    "    print(message)\n",
    "    \n",
    "demo_local()"
   ]
  },
  {
   "cell_type": "markdown",
   "id": "40246dde",
   "metadata": {},
   "source": [
    "Q4: Modify demo_local() from the previous question to access a global variable\n",
    "message = \"Hello, Global\" from within the function."
   ]
  },
  {
   "cell_type": "code",
   "execution_count": 16,
   "id": "9161b759",
   "metadata": {},
   "outputs": [
    {
     "name": "stdout",
     "output_type": "stream",
     "text": [
      "Hello, Local\n"
     ]
    }
   ],
   "source": [
    " message = \"Hello, Local\"\n",
    "\n",
    "def demo_local():\n",
    "    global message\n",
    "    print(message)\n",
    "    \n",
    "demo_local()"
   ]
  },
  {
   "cell_type": "markdown",
   "id": "a6571e4e",
   "metadata": {},
   "source": [
    "Q5: Write a function greet(name) that takes a name as input and returns a greeting\n",
    "message like \"Hello, John!\".\n",
    "o Add a proper docstring describing the purpose of the function, its input parameter, and\n",
    "its return value.\n",
    "o Use help() to display the docstring."
   ]
  },
  {
   "cell_type": "code",
   "execution_count": 19,
   "id": "abc5c539",
   "metadata": {},
   "outputs": [
    {
     "name": "stdout",
     "output_type": "stream",
     "text": [
      "Enter a name :ghj\n"
     ]
    },
    {
     "data": {
      "text/plain": [
       "'ghj'"
      ]
     },
     "execution_count": 19,
     "metadata": {},
     "output_type": "execute_result"
    }
   ],
   "source": [
    "def greet(name):\n",
    "    \"\"\"It will take name from user\n",
    "    and retrun the that name\"\"\"\n",
    "    return name\n",
    "\n",
    "name = str(input('Enter a name :'))\n",
    "\n",
    "greet(name)\n"
   ]
  },
  {
   "cell_type": "markdown",
   "id": "8cde4a61",
   "metadata": {},
   "source": [
    "Q6: Write a function calculate_area(radius) to compute the area of a circle given its\n",
    "radius.\n",
    "o Add a docstring explaining the formula used for calculation and the purpose of the\n",
    "function."
   ]
  },
  {
   "cell_type": "code",
   "execution_count": 24,
   "id": "8fd64972",
   "metadata": {},
   "outputs": [
    {
     "name": "stdout",
     "output_type": "stream",
     "text": [
      "Enter a radius :2\n",
      "The area of a circle is : 12.56\n"
     ]
    }
   ],
   "source": [
    "def calculate_area(radius):\n",
    "    \"\"\" area of a circle formula is 3.14*r**2\"\"\"\n",
    "    return 3.14*radius**2\n",
    "    \n",
    "    \"\"\"The purpose of formula is to\n",
    "    find the area of a circle\"\"\"\n",
    "    \n",
    "radius = int(input('Enter a radius :'))\n",
    "\n",
    "print(f'The area of a circle is :',calculate_area(radius))\n"
   ]
  },
  {
   "cell_type": "markdown",
   "id": "65ced6fd",
   "metadata": {},
   "source": [
    "Q7: Write a function is_even(n) that returns True if a number is even, otherwise\n",
    "returns False. Test the function with multiple inputs."
   ]
  },
  {
   "cell_type": "code",
   "execution_count": 30,
   "id": "b63c52d8",
   "metadata": {},
   "outputs": [
    {
     "name": "stdout",
     "output_type": "stream",
     "text": [
      "Enter a n :10\n"
     ]
    },
    {
     "data": {
      "text/plain": [
       "True"
      ]
     },
     "execution_count": 30,
     "metadata": {},
     "output_type": "execute_result"
    }
   ],
   "source": [
    "def is_even(n):\n",
    "    if n%2 == 0:\n",
    "        return True\n",
    "    else:\n",
    "        return False\n",
    "\n",
    "n = int(input('Enter a n :'))\n",
    "\n",
    "is_even(n)"
   ]
  },
  {
   "cell_type": "code",
   "execution_count": null,
   "id": "bd5c2f47",
   "metadata": {},
   "outputs": [],
   "source": []
  }
 ],
 "metadata": {
  "kernelspec": {
   "display_name": "Python 3 (ipykernel)",
   "language": "python",
   "name": "python3"
  },
  "language_info": {
   "codemirror_mode": {
    "name": "ipython",
    "version": 3
   },
   "file_extension": ".py",
   "mimetype": "text/x-python",
   "name": "python",
   "nbconvert_exporter": "python",
   "pygments_lexer": "ipython3",
   "version": "3.11.3"
  }
 },
 "nbformat": 4,
 "nbformat_minor": 5
}
