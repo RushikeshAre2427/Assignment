{
 "cells": [
  {
   "cell_type": "markdown",
   "id": "99e96e81",
   "metadata": {},
   "source": [
    "How would you convert one data type to another in Python? For example, an integer to a string."
   ]
  },
  {
   "cell_type": "code",
   "execution_count": 4,
   "id": "126f14e2",
   "metadata": {},
   "outputs": [
    {
     "data": {
      "text/plain": [
       "'5'"
      ]
     },
     "execution_count": 4,
     "metadata": {},
     "output_type": "execute_result"
    }
   ],
   "source": [
    "n = 5\n",
    "\n",
    "n_as_string = str(5)\n",
    "n_as_string\n"
   ]
  },
  {
   "cell_type": "markdown",
   "id": "705f1f07",
   "metadata": {},
   "source": [
    "What is the difference between == and = in Python?"
   ]
  },
  {
   "cell_type": "code",
   "execution_count": 17,
   "id": "d5277a56",
   "metadata": {},
   "outputs": [],
   "source": [
    "\"\"\"In Python, = is an assignment operator that is used to assign a value to a variable. For example:\n",
    "a = 5 # Assigns 5 to a\n",
    "\n",
    "On the other hand, == is a comparison operator used to check if two values are equal. For example:\n",
    "if a == 5: # Checks if a is equal to 5\n",
    "print(\"Equal!\")\"\"\""
   ]
  },
  {
   "cell_type": "markdown",
   "id": "a0e53db9",
   "metadata": {},
   "source": [
    "How does the modulus operator (%) work in Python?"
   ]
  },
  {
   "cell_type": "code",
   "execution_count": null,
   "id": "c9bd487a",
   "metadata": {},
   "outputs": [],
   "source": [
    "\"\"\"The modulus operator (%) returns the remainder of a division. For example:\n",
    "10 % 3 # This will give 1 as the remainder\n",
    "It’s useful when you want to check if a number is even or odd, among other things. \n",
    "For example, if x % 2 == 0 checks if a number is even.\"\"\""
   ]
  },
  {
   "cell_type": "markdown",
   "id": "137868f6",
   "metadata": {},
   "source": [
    "What will be the output of 3 * \"Hello\" in Python? Explain why. The output will be:"
   ]
  },
  {
   "cell_type": "code",
   "execution_count": 18,
   "id": "c884ca92",
   "metadata": {},
   "outputs": [
    {
     "name": "stdout",
     "output_type": "stream",
     "text": [
      "HelloHelloHello\n"
     ]
    }
   ],
   "source": [
    "print('Hello'*3) #multiplying a string by an integer repeats the string that many times."
   ]
  },
  {
   "cell_type": "markdown",
   "id": "15184799",
   "metadata": {},
   "source": [
    "What is string concatenation, and how would you do it in Python?"
   ]
  },
  {
   "cell_type": "code",
   "execution_count": 20,
   "id": "93861791",
   "metadata": {},
   "outputs": [
    {
     "name": "stdout",
     "output_type": "stream",
     "text": [
      "The Full Name is Rushikesh Are\n"
     ]
    }
   ],
   "source": [
    "first_name = 'Rushikesh'\n",
    "last_name = 'Are'\n",
    "\n",
    "full_name = first_name + ' ' + last_name\n",
    "print(f'The Full Name is {full_name}')"
   ]
  },
  {
   "cell_type": "code",
   "execution_count": null,
   "id": "d486ffa3",
   "metadata": {},
   "outputs": [],
   "source": []
  }
 ],
 "metadata": {
  "kernelspec": {
   "display_name": "Python 3 (ipykernel)",
   "language": "python",
   "name": "python3"
  },
  "language_info": {
   "codemirror_mode": {
    "name": "ipython",
    "version": 3
   },
   "file_extension": ".py",
   "mimetype": "text/x-python",
   "name": "python",
   "nbconvert_exporter": "python",
   "pygments_lexer": "ipython3",
   "version": "3.11.3"
  }
 },
 "nbformat": 4,
 "nbformat_minor": 5
}
