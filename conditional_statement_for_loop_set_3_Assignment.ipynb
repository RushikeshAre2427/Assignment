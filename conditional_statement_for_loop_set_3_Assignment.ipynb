{
 "cells": [
  {
   "cell_type": "markdown",
   "id": "deaf0790",
   "metadata": {},
   "source": [
    "# Conditional Statements Practice"
   ]
  },
  {
   "cell_type": "markdown",
   "id": "cf537ea6",
   "metadata": {},
   "source": [
    "1. Eligibility Check:\n",
    "o Write a program that takes the age of a person as input and prints whether they are eligible to vote (18 years or older)."
   ]
  },
  {
   "cell_type": "code",
   "execution_count": 3,
   "id": "ceed1743",
   "metadata": {},
   "outputs": [
    {
     "name": "stdout",
     "output_type": "stream",
     "text": [
      "Enter a age of person :78\n",
      "Person is eligible for vote\n"
     ]
    }
   ],
   "source": [
    "age_person = int(input('Enter a age of person :'))\n",
    "\n",
    "if age_person > 18:\n",
    "    print('Person is eligible for vote')\n",
    "else:\n",
    "    print('Sorry, Person is not eligible for vote')"
   ]
  },
  {
   "cell_type": "markdown",
   "id": "ae035c9e",
   "metadata": {},
   "source": [
    "2. Number Classification:\n",
    "o Take a number as input and print whether it is positive, negative, or zero."
   ]
  },
  {
   "cell_type": "code",
   "execution_count": 6,
   "id": "3112e3a8",
   "metadata": {},
   "outputs": [
    {
     "name": "stdout",
     "output_type": "stream",
     "text": [
      "Enter a number :0\n",
      "This number is zero\n"
     ]
    }
   ],
   "source": [
    "get_num = int(input('Enter a number :'))\n",
    "\n",
    "if get_num>0:\n",
    "    print('This number is positive')\n",
    "elif get_num<0:\n",
    "    print('This number is negative')\n",
    "else:\n",
    "    print('This number is zero')\n",
    "    "
   ]
  },
  {
   "cell_type": "markdown",
   "id": "c6c87696",
   "metadata": {},
   "source": [
    "3. Grade Evaluation:\n",
    "o Write a program that asks for a student's score (out of 100) and prints their grade based on the following criteria:\n",
    " 90 and above: \"A\"\n",
    " 80-89: \"B\"\n",
    " 70-79: \"C\"\n",
    " 60-69: \"D\"\n",
    " Below 60: \"F\""
   ]
  },
  {
   "cell_type": "code",
   "execution_count": 12,
   "id": "46d2fec4",
   "metadata": {},
   "outputs": [
    {
     "name": "stdout",
     "output_type": "stream",
     "text": [
      "Enter a student score :79\n",
      "The Student grade is based on their score is C\n"
     ]
    }
   ],
   "source": [
    "get_student_score = int(input('Enter a student score :'))\n",
    "\n",
    "if get_student_score >=90:\n",
    "    grade = 'A'\n",
    "elif get_student_score >=80:\n",
    "    grade = 'B'\n",
    "elif get_student_score >=70:\n",
    "    grade = 'C'\n",
    "elif get_student_score >=60:\n",
    "    grade = 'D'\n",
    "else :\n",
    "    grade = 'F'\n",
    "    \n",
    "print(f'The Student grade is based on their score is {grade}')"
   ]
  },
  {
   "cell_type": "markdown",
   "id": "cfc3dcd5",
   "metadata": {},
   "source": [
    "5. Max of Three Numbers:\n",
    "o Take three numbers as input and print the largest of the three."
   ]
  },
  {
   "cell_type": "code",
   "execution_count": 15,
   "id": "bb16675e",
   "metadata": {},
   "outputs": [
    {
     "name": "stdout",
     "output_type": "stream",
     "text": [
      "Enter a 1st number :10\n",
      "Enter a 2nd number :20\n",
      "Enter a 3rd number :30\n",
      "The largest number is : 30\n"
     ]
    }
   ],
   "source": [
    "num_1 = int(input('Enter a 1st number :'))\n",
    "num_2 = int(input('Enter a 2nd number :'))\n",
    "num_3 = int(input('Enter a 3rd number :'))\n",
    "\n",
    "numbers = [num_1,num_2,num_3]\n",
    "check_largest_number = max(numbers)\n",
    "print(f'The largest number is : {check_largest_number}')"
   ]
  },
  {
   "cell_type": "markdown",
   "id": "ac94188c",
   "metadata": {},
   "source": [
    "6. Even or Odd:\n",
    "o Write a program that takes an integer input and checks if it is even or odd."
   ]
  },
  {
   "cell_type": "code",
   "execution_count": 18,
   "id": "fbafd2a0",
   "metadata": {},
   "outputs": [
    {
     "name": "stdout",
     "output_type": "stream",
     "text": [
      "Enter a number :10\n",
      "This number is even\n"
     ]
    }
   ],
   "source": [
    "num = int(input('Enter a number :'))\n",
    "\n",
    "if num%2 == 0:\n",
    "    print('This number is even')\n",
    "else:\n",
    "    print('This number is odd')\n",
    "    "
   ]
  },
  {
   "cell_type": "markdown",
   "id": "a8540a05",
   "metadata": {},
   "source": [
    "Login System:\n",
    "o Create a simple login system that asks for a username and password and checks if they match predefined values. Print “Login Successful” if correct, otherwise “Login Failed.”"
   ]
  },
  {
   "cell_type": "code",
   "execution_count": 23,
   "id": "0cba645a",
   "metadata": {},
   "outputs": [
    {
     "name": "stdout",
     "output_type": "stream",
     "text": [
      "Enter a username :rushikesh@gmail.com\n",
      "Enter a password :rushi123\n",
      "Login Successful\n"
     ]
    }
   ],
   "source": [
    "pre_define_username = 'rushikesh@gmail.com'\n",
    "pre_define_password = 'rushi123'\n",
    "\n",
    "username = str(input('Enter a username :'))\n",
    "password = str(input('Enter a password :'))\n",
    "\n",
    "if username == pre_define_username and password == pre_define_password:\n",
    "    print('Login Successful')\n",
    "else:\n",
    "    print('Login Failed')"
   ]
  },
  {
   "cell_type": "markdown",
   "id": "f18b0419",
   "metadata": {},
   "source": [
    "Discount Calculation:\n",
    "o Write a program that calculates the final price of an item after applying a discount based on the price:\n",
    " Above $100: 20% discount\n",
    " $50-$100: 10% discount\n",
    " Below $50: No discount"
   ]
  },
  {
   "cell_type": "code",
   "execution_count": 27,
   "id": "c53fc78f",
   "metadata": {},
   "outputs": [
    {
     "name": "stdout",
     "output_type": "stream",
     "text": [
      "Enter a price of item:87\n",
      "discount based on price : 8.70\n",
      "price based on discount : 78.30\n"
     ]
    }
   ],
   "source": [
    "price = float(input('Enter a price of item:'))\n",
    "\n",
    "if price >=100:\n",
    "    discount = 0.20\n",
    "elif price >=50:\n",
    "    discount = 0.10\n",
    "else:\n",
    "    discount = 0.0\n",
    "    \n",
    "discount_ammount = price * discount\n",
    "final_price = price - discount_ammount\n",
    "\n",
    "print(f'discount based on price : {discount_ammount:.2f}')\n",
    "print(f'price based on discount : {final_price:.2f}')\n"
   ]
  },
  {
   "cell_type": "markdown",
   "id": "3cf88c92",
   "metadata": {},
   "source": [
    "# Basic For Loop Practice Questions"
   ]
  },
  {
   "cell_type": "markdown",
   "id": "719ddf7f",
   "metadata": {},
   "source": [
    "Print Numbers from 1 to 10:\n",
    "o Write a program using a for loop to print numbers from 1 to 10."
   ]
  },
  {
   "cell_type": "code",
   "execution_count": 28,
   "id": "287d39e7",
   "metadata": {},
   "outputs": [
    {
     "name": "stdout",
     "output_type": "stream",
     "text": [
      "1\n",
      "2\n",
      "3\n",
      "4\n",
      "5\n",
      "6\n",
      "7\n",
      "8\n",
      "9\n",
      "10\n"
     ]
    }
   ],
   "source": [
    "for i in range(1,11):\n",
    "    print(i)"
   ]
  },
  {
   "cell_type": "markdown",
   "id": "7dedab59",
   "metadata": {},
   "source": [
    "Print Each Character in a String:\n",
    "o Ask the user to enter a word and use a for loop to print each character in the word.\n",
    "o Example Input: Hello\n",
    "o Expected Output:"
   ]
  },
  {
   "cell_type": "code",
   "execution_count": 34,
   "id": "c8d6db2c",
   "metadata": {},
   "outputs": [
    {
     "name": "stdout",
     "output_type": "stream",
     "text": [
      "Enter a stringHello\n",
      "H\n",
      "e\n",
      "l\n",
      "l\n",
      "o\n"
     ]
    }
   ],
   "source": [
    "name_str = str(input('Enter a string'))\n",
    "\n",
    "for i in name_str:\n",
    "    print(i)"
   ]
  },
  {
   "cell_type": "markdown",
   "id": "4d6382ec",
   "metadata": {},
   "source": [
    "Count Up and Down:\n",
    "o Use a for loop to print numbers from 1 to 5 and then back down to 1."
   ]
  },
  {
   "cell_type": "code",
   "execution_count": 43,
   "id": "83375716",
   "metadata": {},
   "outputs": [
    {
     "name": "stdout",
     "output_type": "stream",
     "text": [
      "1\n",
      "2\n",
      "3\n",
      "4\n",
      "5\n",
      "4\n",
      "3\n",
      "2\n",
      "1\n"
     ]
    }
   ],
   "source": [
    "for i in range(1,6):\n",
    "    print(i)\n",
    "\n",
    "for i in range(4,0,-1):\n",
    "    print(i)"
   ]
  },
  {
   "cell_type": "markdown",
   "id": "0a180a15",
   "metadata": {},
   "source": [
    "Print Elements of a List:\n",
    "o Define a list of fruits ([\"apple\", \"banana\", \"cherry\", \"date\"]) and use a for loop to print each fruit in the list."
   ]
  },
  {
   "cell_type": "code",
   "execution_count": 44,
   "id": "f115d759",
   "metadata": {},
   "outputs": [
    {
     "name": "stdout",
     "output_type": "stream",
     "text": [
      "apple\n",
      "banana\n",
      "cherry\n",
      "date\n"
     ]
    }
   ],
   "source": [
    "fruits = [\"apple\", \"banana\", \"cherry\", \"date\"]\n",
    "\n",
    "for i in fruits:\n",
    "    print(i)"
   ]
  },
  {
   "cell_type": "markdown",
   "id": "3d37b23d",
   "metadata": {},
   "source": [
    "Print Even Numbers Between 1 and 10:\n",
    "o Use a for loop to print all even numbers between 1 and 10."
   ]
  },
  {
   "cell_type": "code",
   "execution_count": 45,
   "id": "47eff9d4",
   "metadata": {},
   "outputs": [
    {
     "name": "stdout",
     "output_type": "stream",
     "text": [
      "2\n",
      "4\n",
      "6\n",
      "8\n",
      "10\n"
     ]
    }
   ],
   "source": [
    "for i in range(1,11):\n",
    "    if i%2 == 0:\n",
    "        print(i)"
   ]
  },
  {
   "cell_type": "markdown",
   "id": "954cd3be",
   "metadata": {},
   "source": [
    "Simple Sum of a List:\n",
    "o Write a program that calculates the sum of numbers in a list ([1, 2, 3, 4, 5]) using a for loop.\\"
   ]
  },
  {
   "cell_type": "code",
   "execution_count": 57,
   "id": "07342272",
   "metadata": {},
   "outputs": [
    {
     "name": "stdout",
     "output_type": "stream",
     "text": [
      "The sum of number is 15\n"
     ]
    }
   ],
   "source": [
    "numbers = [1, 2, 3, 4, 5]\n",
    "n = 0\n",
    "\n",
    "for i in numbers:\n",
    "    n = n+i\n",
    "\n",
    "print(f'The sum of number is {n}')"
   ]
  },
  {
   "cell_type": "markdown",
   "id": "15e04356",
   "metadata": {},
   "source": [
    "Count Down from 5 to 1:\n",
    "o Use a for loop to print numbers in reverse from 5 to 1."
   ]
  },
  {
   "cell_type": "code",
   "execution_count": 58,
   "id": "44f641dc",
   "metadata": {},
   "outputs": [
    {
     "name": "stdout",
     "output_type": "stream",
     "text": [
      "5\n",
      "4\n",
      "3\n",
      "2\n",
      "1\n"
     ]
    }
   ],
   "source": [
    "for i in range(5,0,-1):\n",
    "    print(i)"
   ]
  },
  {
   "cell_type": "markdown",
   "id": "985ae4ea",
   "metadata": {},
   "source": [
    "Square Each Number in a List:\n",
    "o Given a list of numbers [1, 2, 3, 4, 5], use a for loop to print the square of each number."
   ]
  },
  {
   "cell_type": "code",
   "execution_count": 59,
   "id": "97ebbfb5",
   "metadata": {},
   "outputs": [
    {
     "name": "stdout",
     "output_type": "stream",
     "text": [
      "1\n",
      "4\n",
      "9\n",
      "16\n",
      "25\n"
     ]
    }
   ],
   "source": [
    "numbers = [1, 2, 3, 4, 5]\n",
    "\n",
    "for i in numbers:\n",
    "    print(i**2)"
   ]
  },
  {
   "cell_type": "markdown",
   "id": "2b6d2089",
   "metadata": {},
   "source": [
    "Repeat a Word Multiple Times:\n",
    "o Ask the user for a word and a number N. Use a for loop to print the word N times.\n",
    "o Example Input: word = \"Hi\", N = 3\n",
    "Expected Output: Hi\n",
    "                 Hi\n",
    "                 Hi"
   ]
  },
  {
   "cell_type": "code",
   "execution_count": 73,
   "id": "7f8e2f8d",
   "metadata": {},
   "outputs": [
    {
     "name": "stdout",
     "output_type": "stream",
     "text": [
      "Enter a word : hi\n",
      "Enter a number : 3\n",
      "hi\n",
      "hi\n",
      "hi\n"
     ]
    }
   ],
   "source": [
    "word = str(input('Enter a word : '))\n",
    "n = int(input('Enter a number : '))\n",
    "\n",
    "for _ in range(n):\n",
    "    print(word)"
   ]
  },
  {
   "cell_type": "code",
   "execution_count": null,
   "id": "3a6f95b6",
   "metadata": {},
   "outputs": [],
   "source": []
  },
  {
   "cell_type": "code",
   "execution_count": null,
   "id": "3e6746de",
   "metadata": {},
   "outputs": [],
   "source": []
  }
 ],
 "metadata": {
  "kernelspec": {
   "display_name": "Python 3 (ipykernel)",
   "language": "python",
   "name": "python3"
  },
  "language_info": {
   "codemirror_mode": {
    "name": "ipython",
    "version": 3
   },
   "file_extension": ".py",
   "mimetype": "text/x-python",
   "name": "python",
   "nbconvert_exporter": "python",
   "pygments_lexer": "ipython3",
   "version": "3.11.3"
  }
 },
 "nbformat": 4,
 "nbformat_minor": 5
}
