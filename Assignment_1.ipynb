{
 "cells": [
  {
   "cell_type": "code",
   "execution_count": null,
   "id": "119f15f7",
   "metadata": {},
   "outputs": [],
   "source": [
    "# 1. In the below elements which of them are values or an expression? eg:- values can be integer or string and expressions will be mathematical operators.\n",
    "*,'hello', -87.8,-,/,+,6\n",
    "\n",
    "#Ans: There are a total of 4 Operators and 3 Expressions, They are:\n",
    "\n",
    "Operators: *,-,/,+\n",
    "Expressions: 'hello', 87.8, 6"
   ]
  },
  {
   "cell_type": "code",
   "execution_count": 2,
   "id": "4b19e04c",
   "metadata": {},
   "outputs": [
    {
     "name": "stdout",
     "output_type": "stream",
     "text": [
      "spamspamspam\n"
     ]
    }
   ],
   "source": [
    "print('spam'+'spamspam')"
   ]
  },
  {
   "cell_type": "code",
   "execution_count": 3,
   "id": "74062f80",
   "metadata": {},
   "outputs": [
    {
     "name": "stdout",
     "output_type": "stream",
     "text": [
      "spamspamspam\n"
     ]
    }
   ],
   "source": [
    "print('spam'*3)"
   ]
  },
  {
   "cell_type": "code",
   "execution_count": 6,
   "id": "79aa59ab",
   "metadata": {},
   "outputs": [
    {
     "name": "stdout",
     "output_type": "stream",
     "text": [
      "I have eaten 99 burritos.\n"
     ]
    }
   ],
   "source": [
    "# Why does this expression cause an error? how can you fix it?\n",
    "# 'I have eaten ' + 99 + 'burritos.'\n",
    "\n",
    "# Input: 'I have eaten ' + str(99) + 'burritos.'\n",
    "# Output: 'I have eaten 99 burritos.'\n",
    "\n",
    "print('I have eaten ' + str(99) +' ' + 'burritos.')"
   ]
  },
  {
   "cell_type": "code",
   "execution_count": null,
   "id": "be35ec31",
   "metadata": {},
   "outputs": [],
   "source": []
  }
 ],
 "metadata": {
  "kernelspec": {
   "display_name": "Python 3 (ipykernel)",
   "language": "python",
   "name": "python3"
  },
  "language_info": {
   "codemirror_mode": {
    "name": "ipython",
    "version": 3
   },
   "file_extension": ".py",
   "mimetype": "text/x-python",
   "name": "python",
   "nbconvert_exporter": "python",
   "pygments_lexer": "ipython3",
   "version": "3.11.3"
  }
 },
 "nbformat": 4,
 "nbformat_minor": 5
}
